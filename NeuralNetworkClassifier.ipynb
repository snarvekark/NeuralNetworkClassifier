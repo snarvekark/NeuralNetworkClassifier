{
  "nbformat": 4,
  "nbformat_minor": 0,
  "metadata": {
    "colab": {
      "name": "NeuralNetworkClassifier.ipynb",
      "provenance": [],
      "collapsed_sections": [],
      "toc_visible": true,
      "include_colab_link": true
    },
    "kernelspec": {
      "name": "python3",
      "display_name": "Python 3"
    }
  },
  "cells": [
    {
      "cell_type": "markdown",
      "metadata": {
        "id": "view-in-github",
        "colab_type": "text"
      },
      "source": [
        "<a href=\"https://colab.research.google.com/github/snarvekark/NeuralNetworkClassifier/blob/main/NeuralNetworkClassifier.ipynb\" target=\"_parent\"><img src=\"https://colab.research.google.com/assets/colab-badge.svg\" alt=\"Open In Colab\"/></a>"
      ]
    },
    {
      "cell_type": "markdown",
      "metadata": {
        "id": "G8huogek1v8D"
      },
      "source": [
        "# Fake News Classification using Neural Network"
      ]
    },
    {
      "cell_type": "markdown",
      "metadata": {
        "id": "PKbZis7ZsKmY"
      },
      "source": [
        "##Import Libraries"
      ]
    },
    {
      "cell_type": "code",
      "metadata": {
        "colab": {
          "base_uri": "https://localhost:8080/"
        },
        "id": "rQbQQCK9sJeJ",
        "outputId": "8516107d-1a67-40a4-ea9a-28f03ba8b397"
      },
      "source": [
        "import pandas as pd\n",
        "import numpy as np\n",
        "import csv\n",
        "import gensim\n",
        "from sklearn.feature_extraction.text import TfidfVectorizer\n",
        "from sklearn.feature_extraction.text import CountVectorizer\n",
        "from sklearn.model_selection import train_test_split\n",
        "from sklearn.linear_model import LogisticRegression\n",
        "from sklearn.metrics import classification_report\n",
        "from sklearn.preprocessing import StandardScaler\n",
        "from nltk.stem.wordnet import WordNetLemmatizer\n",
        "from sklearn.model_selection import GridSearchCV\n",
        "from sklearn.metrics import confusion_matrix\n",
        "from nltk.stem.porter import PorterStemmer\n",
        "from sklearn import metrics\n",
        "from sklearn.metrics import roc_auc_score\n",
        "from sklearn.metrics import roc_curve\n",
        "from sklearn.pipeline import Pipeline\n",
        "from nltk.corpus import stopwords\n",
        "from string import punctuation\n",
        "import seaborn as sns\n",
        "import pandas as pd\n",
        "import numpy as np\n",
        "import nltk\n",
        "import re\n",
        "import nltk\n",
        "nltk.download('stopwords')\n",
        "nltk.download('averaged_perceptron_tagger')\n",
        "import matplotlib.pyplot as plt\n",
        "from scipy import sparse"
      ],
      "execution_count": 1,
      "outputs": [
        {
          "output_type": "stream",
          "text": [
            "[nltk_data] Downloading package stopwords to /root/nltk_data...\n",
            "[nltk_data]   Unzipping corpora/stopwords.zip.\n",
            "[nltk_data] Downloading package averaged_perceptron_tagger to\n",
            "[nltk_data]     /root/nltk_data...\n",
            "[nltk_data]   Unzipping taggers/averaged_perceptron_tagger.zip.\n"
          ],
          "name": "stdout"
        }
      ]
    },
    {
      "cell_type": "markdown",
      "metadata": {
        "id": "CHin1eLoeBK_"
      },
      "source": [
        "##Install Tensorflow"
      ]
    },
    {
      "cell_type": "code",
      "metadata": {
        "id": "ofNGIHq02U3R",
        "colab": {
          "base_uri": "https://localhost:8080/"
        },
        "outputId": "f23f7421-a0ac-4bf1-d416-04e1dbd83425"
      },
      "source": [
        "# First we import the required libraries\n",
        "\n",
        "import tensorflow as tf\n",
        "import random\n",
        "import numpy as np\n",
        "import pandas as pd\n",
        "import matplotlib.image  as mpimg\n",
        "import matplotlib.pyplot as plt\n",
        "import io\n",
        "\n",
        "from sklearn.model_selection import train_test_split\n",
        "from sklearn.utils import shuffle\n",
        "from tensorflow.keras.preprocessing.text import Tokenizer\n",
        "from tensorflow.keras.preprocessing.sequence import pad_sequences\n",
        "from tensorflow.keras.utils import to_categorical\n",
        "from tensorflow.keras import regularizers\n",
        "from tensorflow.keras import backend as K \n",
        "K.clear_session()\n",
        "\n",
        "# Check tensorflow version\n",
        "if float(tf.__version__[0]) < 2.0:\n",
        "  print('Updating tensorflow')\n",
        "  !pip install tensorflow==2.0\n",
        "else:\n",
        "  print('Correct version of Tensorflow installed.')"
      ],
      "execution_count": 2,
      "outputs": [
        {
          "output_type": "stream",
          "text": [
            "Correct version of Tensorflow installed.\n"
          ],
          "name": "stdout"
        }
      ]
    },
    {
      "cell_type": "markdown",
      "metadata": {
        "id": "6kRVOOfNeI6K"
      },
      "source": [
        "##Dataset"
      ]
    },
    {
      "cell_type": "markdown",
      "metadata": {
        "id": "Ij3XRJ5keQPW"
      },
      "source": [
        "Here we are using the Liar Liar dataset to classify the news as Fake or Not using the Neural Network model"
      ]
    },
    {
      "cell_type": "code",
      "metadata": {
        "id": "bwoYVO8lyauz"
      },
      "source": [
        "from pydrive.auth import GoogleAuth\n",
        "from pydrive.drive import GoogleDrive\n",
        "from google.colab import auth\n",
        "from oauth2client.client import GoogleCredentials\n",
        "import pandas as pd\n",
        "\n",
        "auth.authenticate_user()\n",
        "gauth = GoogleAuth()\n",
        "gauth.credentials = GoogleCredentials.get_application_default()\n",
        "drive = GoogleDrive(gauth)\n",
        "\n",
        "downloaded = drive.CreateFile({'id':\"1sFMftHLILNfuS0kpTlsbUzWpSNs3WkeD\"})\n",
        "downloaded.GetContentFile('liar_plus_dataset.zip')"
      ],
      "execution_count": 3,
      "outputs": []
    },
    {
      "cell_type": "code",
      "metadata": {
        "id": "BnJoYgqzycBn"
      },
      "source": [
        "from zipfile import ZipFile"
      ],
      "execution_count": 4,
      "outputs": []
    },
    {
      "cell_type": "markdown",
      "metadata": {
        "id": "Bkrralq8k-dT"
      },
      "source": [
        "The dataset is divided into three sets, Train, Test and Validation data"
      ]
    },
    {
      "cell_type": "code",
      "metadata": {
        "id": "bUXCjtplbyWW"
      },
      "source": [
        "with ZipFile('liar_plus_dataset.zip', 'r') as myzip:\n",
        "    train_data = myzip.open('train2.tsv')\n",
        "    test_data = myzip.open('test2.tsv')\n",
        "    valid_data = myzip.open('val2.tsv')\n",
        "\n",
        "train_news = pd.read_csv(train_data, sep='\\t', header=None).drop([0], axis=1).dropna(how='all')\n",
        "test_news = pd.read_csv(test_data, sep='\\t', header=None).drop([0], axis=1).dropna(how='all')\n",
        "valid_news = pd.read_csv(valid_data, sep='\\t', header=None).drop([0], axis=1).dropna(how='all')"
      ],
      "execution_count": 5,
      "outputs": []
    },
    {
      "cell_type": "code",
      "metadata": {
        "id": "7YHDGDv7_VU2",
        "colab": {
          "base_uri": "https://localhost:8080/"
        },
        "outputId": "3c70ad52-f37f-454f-994e-b21333764d86"
      },
      "source": [
        "# Retrieve the data\n",
        "\n",
        "train_news.count()"
      ],
      "execution_count": 6,
      "outputs": [
        {
          "output_type": "execute_result",
          "data": {
            "text/plain": [
              "1     10240\n",
              "2     10240\n",
              "3     10240\n",
              "4     10238\n",
              "5     10238\n",
              "6      7343\n",
              "7      8032\n",
              "8     10238\n",
              "9     10238\n",
              "10    10238\n",
              "11    10238\n",
              "12    10238\n",
              "13    10238\n",
              "14    10138\n",
              "15    10154\n",
              "dtype: int64"
            ]
          },
          "metadata": {
            "tags": []
          },
          "execution_count": 6
        }
      ]
    },
    {
      "cell_type": "markdown",
      "metadata": {
        "id": "77S7XrnSgK_F"
      },
      "source": [
        "As ca nbe seen there are Null values in some of the columns"
      ]
    },
    {
      "cell_type": "code",
      "metadata": {
        "colab": {
          "base_uri": "https://localhost:8080/",
          "height": 666
        },
        "id": "1UszYXWMgQZw",
        "outputId": "a1983bde-3f39-4f7f-c9ad-e33953f11233"
      },
      "source": [
        "train_news.head()"
      ],
      "execution_count": 7,
      "outputs": [
        {
          "output_type": "execute_result",
          "data": {
            "text/html": [
              "<div>\n",
              "<style scoped>\n",
              "    .dataframe tbody tr th:only-of-type {\n",
              "        vertical-align: middle;\n",
              "    }\n",
              "\n",
              "    .dataframe tbody tr th {\n",
              "        vertical-align: top;\n",
              "    }\n",
              "\n",
              "    .dataframe thead th {\n",
              "        text-align: right;\n",
              "    }\n",
              "</style>\n",
              "<table border=\"1\" class=\"dataframe\">\n",
              "  <thead>\n",
              "    <tr style=\"text-align: right;\">\n",
              "      <th></th>\n",
              "      <th>1</th>\n",
              "      <th>2</th>\n",
              "      <th>3</th>\n",
              "      <th>4</th>\n",
              "      <th>5</th>\n",
              "      <th>6</th>\n",
              "      <th>7</th>\n",
              "      <th>8</th>\n",
              "      <th>9</th>\n",
              "      <th>10</th>\n",
              "      <th>11</th>\n",
              "      <th>12</th>\n",
              "      <th>13</th>\n",
              "      <th>14</th>\n",
              "      <th>15</th>\n",
              "    </tr>\n",
              "  </thead>\n",
              "  <tbody>\n",
              "    <tr>\n",
              "      <th>0</th>\n",
              "      <td>2635.json</td>\n",
              "      <td>false</td>\n",
              "      <td>Says the Annies List political group supports ...</td>\n",
              "      <td>abortion</td>\n",
              "      <td>dwayne-bohac</td>\n",
              "      <td>State representative</td>\n",
              "      <td>Texas</td>\n",
              "      <td>republican</td>\n",
              "      <td>0.0</td>\n",
              "      <td>1.0</td>\n",
              "      <td>0.0</td>\n",
              "      <td>0.0</td>\n",
              "      <td>0.0</td>\n",
              "      <td>a mailer</td>\n",
              "      <td>That's a premise that he fails to back up. Ann...</td>\n",
              "    </tr>\n",
              "    <tr>\n",
              "      <th>1</th>\n",
              "      <td>10540.json</td>\n",
              "      <td>half-true</td>\n",
              "      <td>When did the decline of coal start? It started...</td>\n",
              "      <td>energy,history,job-accomplishments</td>\n",
              "      <td>scott-surovell</td>\n",
              "      <td>State delegate</td>\n",
              "      <td>Virginia</td>\n",
              "      <td>democrat</td>\n",
              "      <td>0.0</td>\n",
              "      <td>0.0</td>\n",
              "      <td>1.0</td>\n",
              "      <td>1.0</td>\n",
              "      <td>0.0</td>\n",
              "      <td>a floor speech.</td>\n",
              "      <td>Surovell said the decline of coal \"started whe...</td>\n",
              "    </tr>\n",
              "    <tr>\n",
              "      <th>2</th>\n",
              "      <td>324.json</td>\n",
              "      <td>mostly-true</td>\n",
              "      <td>Hillary Clinton agrees with John McCain \"by vo...</td>\n",
              "      <td>foreign-policy</td>\n",
              "      <td>barack-obama</td>\n",
              "      <td>President</td>\n",
              "      <td>Illinois</td>\n",
              "      <td>democrat</td>\n",
              "      <td>70.0</td>\n",
              "      <td>71.0</td>\n",
              "      <td>160.0</td>\n",
              "      <td>163.0</td>\n",
              "      <td>9.0</td>\n",
              "      <td>Denver</td>\n",
              "      <td>Obama said he would have voted against the ame...</td>\n",
              "    </tr>\n",
              "    <tr>\n",
              "      <th>3</th>\n",
              "      <td>1123.json</td>\n",
              "      <td>false</td>\n",
              "      <td>Health care reform legislation is likely to ma...</td>\n",
              "      <td>health-care</td>\n",
              "      <td>blog-posting</td>\n",
              "      <td>NaN</td>\n",
              "      <td>NaN</td>\n",
              "      <td>none</td>\n",
              "      <td>7.0</td>\n",
              "      <td>19.0</td>\n",
              "      <td>3.0</td>\n",
              "      <td>5.0</td>\n",
              "      <td>44.0</td>\n",
              "      <td>a news release</td>\n",
              "      <td>The release may have a point that Mikulskis co...</td>\n",
              "    </tr>\n",
              "    <tr>\n",
              "      <th>4</th>\n",
              "      <td>9028.json</td>\n",
              "      <td>half-true</td>\n",
              "      <td>The economic turnaround started at the end of ...</td>\n",
              "      <td>economy,jobs</td>\n",
              "      <td>charlie-crist</td>\n",
              "      <td>NaN</td>\n",
              "      <td>Florida</td>\n",
              "      <td>democrat</td>\n",
              "      <td>15.0</td>\n",
              "      <td>9.0</td>\n",
              "      <td>20.0</td>\n",
              "      <td>19.0</td>\n",
              "      <td>2.0</td>\n",
              "      <td>an interview on CNN</td>\n",
              "      <td>Crist said that the economic \"turnaround start...</td>\n",
              "    </tr>\n",
              "  </tbody>\n",
              "</table>\n",
              "</div>"
            ],
            "text/plain": [
              "           1   ...                                                 15\n",
              "0   2635.json  ...  That's a premise that he fails to back up. Ann...\n",
              "1  10540.json  ...  Surovell said the decline of coal \"started whe...\n",
              "2    324.json  ...  Obama said he would have voted against the ame...\n",
              "3   1123.json  ...  The release may have a point that Mikulskis co...\n",
              "4   9028.json  ...  Crist said that the economic \"turnaround start...\n",
              "\n",
              "[5 rows x 15 columns]"
            ]
          },
          "metadata": {
            "tags": []
          },
          "execution_count": 7
        }
      ]
    },
    {
      "cell_type": "markdown",
      "metadata": {
        "id": "llYgBfyClNYb"
      },
      "source": [
        "Since the columns are not labeled we rename them"
      ]
    },
    {
      "cell_type": "code",
      "metadata": {
        "id": "4vqvGlgPyslz"
      },
      "source": [
        "colnames = ['jsonid', 'label', 'headline_text', 'subject', 'speaker', 'speakerjobtitle', 'stateinfo','partyaffiliation', 'barelytruecounts', 'falsecounts','halftruecounts','mostlytruecounts','pantsonfirecounts','context', 'text']\n"
      ],
      "execution_count": 8,
      "outputs": []
    },
    {
      "cell_type": "code",
      "metadata": {
        "id": "B2gtY06kzBOU"
      },
      "source": [
        "column_indices = [0,1,2,3,4,5,6,7,8,9,10,11,12,13,14]\n",
        "#new_names = ['a','b','c','d']\n",
        "old_names = train_news.columns[column_indices]\n",
        "train_news.rename(columns=dict(zip(old_names, colnames)), inplace=True)\n",
        "test_news.rename(columns=dict(zip(old_names, colnames)), inplace=True)\n",
        "valid_news.rename(columns=dict(zip(old_names, colnames)), inplace=True)"
      ],
      "execution_count": 9,
      "outputs": []
    },
    {
      "cell_type": "code",
      "metadata": {
        "colab": {
          "base_uri": "https://localhost:8080/",
          "height": 615
        },
        "id": "ed_n48SLzC87",
        "outputId": "c5da046b-d249-4efa-dc71-851267128456"
      },
      "source": [
        "train_news.head()"
      ],
      "execution_count": 10,
      "outputs": [
        {
          "output_type": "execute_result",
          "data": {
            "text/html": [
              "<div>\n",
              "<style scoped>\n",
              "    .dataframe tbody tr th:only-of-type {\n",
              "        vertical-align: middle;\n",
              "    }\n",
              "\n",
              "    .dataframe tbody tr th {\n",
              "        vertical-align: top;\n",
              "    }\n",
              "\n",
              "    .dataframe thead th {\n",
              "        text-align: right;\n",
              "    }\n",
              "</style>\n",
              "<table border=\"1\" class=\"dataframe\">\n",
              "  <thead>\n",
              "    <tr style=\"text-align: right;\">\n",
              "      <th></th>\n",
              "      <th>jsonid</th>\n",
              "      <th>label</th>\n",
              "      <th>headline_text</th>\n",
              "      <th>subject</th>\n",
              "      <th>speaker</th>\n",
              "      <th>speakerjobtitle</th>\n",
              "      <th>stateinfo</th>\n",
              "      <th>partyaffiliation</th>\n",
              "      <th>barelytruecounts</th>\n",
              "      <th>falsecounts</th>\n",
              "      <th>halftruecounts</th>\n",
              "      <th>mostlytruecounts</th>\n",
              "      <th>pantsonfirecounts</th>\n",
              "      <th>context</th>\n",
              "      <th>text</th>\n",
              "    </tr>\n",
              "  </thead>\n",
              "  <tbody>\n",
              "    <tr>\n",
              "      <th>0</th>\n",
              "      <td>2635.json</td>\n",
              "      <td>false</td>\n",
              "      <td>Says the Annies List political group supports ...</td>\n",
              "      <td>abortion</td>\n",
              "      <td>dwayne-bohac</td>\n",
              "      <td>State representative</td>\n",
              "      <td>Texas</td>\n",
              "      <td>republican</td>\n",
              "      <td>0.0</td>\n",
              "      <td>1.0</td>\n",
              "      <td>0.0</td>\n",
              "      <td>0.0</td>\n",
              "      <td>0.0</td>\n",
              "      <td>a mailer</td>\n",
              "      <td>That's a premise that he fails to back up. Ann...</td>\n",
              "    </tr>\n",
              "    <tr>\n",
              "      <th>1</th>\n",
              "      <td>10540.json</td>\n",
              "      <td>half-true</td>\n",
              "      <td>When did the decline of coal start? It started...</td>\n",
              "      <td>energy,history,job-accomplishments</td>\n",
              "      <td>scott-surovell</td>\n",
              "      <td>State delegate</td>\n",
              "      <td>Virginia</td>\n",
              "      <td>democrat</td>\n",
              "      <td>0.0</td>\n",
              "      <td>0.0</td>\n",
              "      <td>1.0</td>\n",
              "      <td>1.0</td>\n",
              "      <td>0.0</td>\n",
              "      <td>a floor speech.</td>\n",
              "      <td>Surovell said the decline of coal \"started whe...</td>\n",
              "    </tr>\n",
              "    <tr>\n",
              "      <th>2</th>\n",
              "      <td>324.json</td>\n",
              "      <td>mostly-true</td>\n",
              "      <td>Hillary Clinton agrees with John McCain \"by vo...</td>\n",
              "      <td>foreign-policy</td>\n",
              "      <td>barack-obama</td>\n",
              "      <td>President</td>\n",
              "      <td>Illinois</td>\n",
              "      <td>democrat</td>\n",
              "      <td>70.0</td>\n",
              "      <td>71.0</td>\n",
              "      <td>160.0</td>\n",
              "      <td>163.0</td>\n",
              "      <td>9.0</td>\n",
              "      <td>Denver</td>\n",
              "      <td>Obama said he would have voted against the ame...</td>\n",
              "    </tr>\n",
              "    <tr>\n",
              "      <th>3</th>\n",
              "      <td>1123.json</td>\n",
              "      <td>false</td>\n",
              "      <td>Health care reform legislation is likely to ma...</td>\n",
              "      <td>health-care</td>\n",
              "      <td>blog-posting</td>\n",
              "      <td>NaN</td>\n",
              "      <td>NaN</td>\n",
              "      <td>none</td>\n",
              "      <td>7.0</td>\n",
              "      <td>19.0</td>\n",
              "      <td>3.0</td>\n",
              "      <td>5.0</td>\n",
              "      <td>44.0</td>\n",
              "      <td>a news release</td>\n",
              "      <td>The release may have a point that Mikulskis co...</td>\n",
              "    </tr>\n",
              "    <tr>\n",
              "      <th>4</th>\n",
              "      <td>9028.json</td>\n",
              "      <td>half-true</td>\n",
              "      <td>The economic turnaround started at the end of ...</td>\n",
              "      <td>economy,jobs</td>\n",
              "      <td>charlie-crist</td>\n",
              "      <td>NaN</td>\n",
              "      <td>Florida</td>\n",
              "      <td>democrat</td>\n",
              "      <td>15.0</td>\n",
              "      <td>9.0</td>\n",
              "      <td>20.0</td>\n",
              "      <td>19.0</td>\n",
              "      <td>2.0</td>\n",
              "      <td>an interview on CNN</td>\n",
              "      <td>Crist said that the economic \"turnaround start...</td>\n",
              "    </tr>\n",
              "  </tbody>\n",
              "</table>\n",
              "</div>"
            ],
            "text/plain": [
              "       jsonid  ...                                               text\n",
              "0   2635.json  ...  That's a premise that he fails to back up. Ann...\n",
              "1  10540.json  ...  Surovell said the decline of coal \"started whe...\n",
              "2    324.json  ...  Obama said he would have voted against the ame...\n",
              "3   1123.json  ...  The release may have a point that Mikulskis co...\n",
              "4   9028.json  ...  Crist said that the economic \"turnaround start...\n",
              "\n",
              "[5 rows x 15 columns]"
            ]
          },
          "metadata": {
            "tags": []
          },
          "execution_count": 10
        }
      ]
    },
    {
      "cell_type": "code",
      "metadata": {
        "colab": {
          "base_uri": "https://localhost:8080/"
        },
        "id": "6pU_A113l7D6",
        "outputId": "b192d6ac-2e20-4ef4-c6fc-b54a1b543995"
      },
      "source": [
        "train_news.dtypes"
      ],
      "execution_count": 11,
      "outputs": [
        {
          "output_type": "execute_result",
          "data": {
            "text/plain": [
              "jsonid                object\n",
              "label                 object\n",
              "headline_text         object\n",
              "subject               object\n",
              "speaker               object\n",
              "speakerjobtitle       object\n",
              "stateinfo             object\n",
              "partyaffiliation      object\n",
              "barelytruecounts     float64\n",
              "falsecounts          float64\n",
              "halftruecounts       float64\n",
              "mostlytruecounts     float64\n",
              "pantsonfirecounts    float64\n",
              "context               object\n",
              "text                  object\n",
              "dtype: object"
            ]
          },
          "metadata": {
            "tags": []
          },
          "execution_count": 11
        }
      ]
    },
    {
      "cell_type": "code",
      "metadata": {
        "id": "ZvY_qPoJuvAY"
      },
      "source": [
        "#Use Scikit learn to convert string value to categorical\n",
        "#Referrence: https://towardsdatascience.com/categorical-encoding-using-label-encoding-and-one-hot-encoder-911ef77fb5bd\n",
        "\n",
        "import pandas as pd\n",
        "import numpy as np\n",
        "from sklearn.preprocessing import LabelEncoder\n",
        "\n",
        "# creating instance of labelencoder\n",
        "labelencoder = LabelEncoder()\n",
        "# Assigning numerical values and storing in another column\n",
        "train_news['label_cat'] = labelencoder.fit_transform(train_news['label'])\n",
        "test_news['label_cat'] = labelencoder.fit_transform(test_news['label'])"
      ],
      "execution_count": 12,
      "outputs": []
    },
    {
      "cell_type": "code",
      "metadata": {
        "colab": {
          "base_uri": "https://localhost:8080/",
          "height": 615
        },
        "id": "hhLSuiVnu-Ic",
        "outputId": "bc94ab6e-fb82-45c8-8436-df4987bec09c"
      },
      "source": [
        "train_news.head()"
      ],
      "execution_count": 13,
      "outputs": [
        {
          "output_type": "execute_result",
          "data": {
            "text/html": [
              "<div>\n",
              "<style scoped>\n",
              "    .dataframe tbody tr th:only-of-type {\n",
              "        vertical-align: middle;\n",
              "    }\n",
              "\n",
              "    .dataframe tbody tr th {\n",
              "        vertical-align: top;\n",
              "    }\n",
              "\n",
              "    .dataframe thead th {\n",
              "        text-align: right;\n",
              "    }\n",
              "</style>\n",
              "<table border=\"1\" class=\"dataframe\">\n",
              "  <thead>\n",
              "    <tr style=\"text-align: right;\">\n",
              "      <th></th>\n",
              "      <th>jsonid</th>\n",
              "      <th>label</th>\n",
              "      <th>headline_text</th>\n",
              "      <th>subject</th>\n",
              "      <th>speaker</th>\n",
              "      <th>speakerjobtitle</th>\n",
              "      <th>stateinfo</th>\n",
              "      <th>partyaffiliation</th>\n",
              "      <th>barelytruecounts</th>\n",
              "      <th>falsecounts</th>\n",
              "      <th>halftruecounts</th>\n",
              "      <th>mostlytruecounts</th>\n",
              "      <th>pantsonfirecounts</th>\n",
              "      <th>context</th>\n",
              "      <th>text</th>\n",
              "      <th>label_cat</th>\n",
              "    </tr>\n",
              "  </thead>\n",
              "  <tbody>\n",
              "    <tr>\n",
              "      <th>0</th>\n",
              "      <td>2635.json</td>\n",
              "      <td>false</td>\n",
              "      <td>Says the Annies List political group supports ...</td>\n",
              "      <td>abortion</td>\n",
              "      <td>dwayne-bohac</td>\n",
              "      <td>State representative</td>\n",
              "      <td>Texas</td>\n",
              "      <td>republican</td>\n",
              "      <td>0.0</td>\n",
              "      <td>1.0</td>\n",
              "      <td>0.0</td>\n",
              "      <td>0.0</td>\n",
              "      <td>0.0</td>\n",
              "      <td>a mailer</td>\n",
              "      <td>That's a premise that he fails to back up. Ann...</td>\n",
              "      <td>1</td>\n",
              "    </tr>\n",
              "    <tr>\n",
              "      <th>1</th>\n",
              "      <td>10540.json</td>\n",
              "      <td>half-true</td>\n",
              "      <td>When did the decline of coal start? It started...</td>\n",
              "      <td>energy,history,job-accomplishments</td>\n",
              "      <td>scott-surovell</td>\n",
              "      <td>State delegate</td>\n",
              "      <td>Virginia</td>\n",
              "      <td>democrat</td>\n",
              "      <td>0.0</td>\n",
              "      <td>0.0</td>\n",
              "      <td>1.0</td>\n",
              "      <td>1.0</td>\n",
              "      <td>0.0</td>\n",
              "      <td>a floor speech.</td>\n",
              "      <td>Surovell said the decline of coal \"started whe...</td>\n",
              "      <td>2</td>\n",
              "    </tr>\n",
              "    <tr>\n",
              "      <th>2</th>\n",
              "      <td>324.json</td>\n",
              "      <td>mostly-true</td>\n",
              "      <td>Hillary Clinton agrees with John McCain \"by vo...</td>\n",
              "      <td>foreign-policy</td>\n",
              "      <td>barack-obama</td>\n",
              "      <td>President</td>\n",
              "      <td>Illinois</td>\n",
              "      <td>democrat</td>\n",
              "      <td>70.0</td>\n",
              "      <td>71.0</td>\n",
              "      <td>160.0</td>\n",
              "      <td>163.0</td>\n",
              "      <td>9.0</td>\n",
              "      <td>Denver</td>\n",
              "      <td>Obama said he would have voted against the ame...</td>\n",
              "      <td>3</td>\n",
              "    </tr>\n",
              "    <tr>\n",
              "      <th>3</th>\n",
              "      <td>1123.json</td>\n",
              "      <td>false</td>\n",
              "      <td>Health care reform legislation is likely to ma...</td>\n",
              "      <td>health-care</td>\n",
              "      <td>blog-posting</td>\n",
              "      <td>NaN</td>\n",
              "      <td>NaN</td>\n",
              "      <td>none</td>\n",
              "      <td>7.0</td>\n",
              "      <td>19.0</td>\n",
              "      <td>3.0</td>\n",
              "      <td>5.0</td>\n",
              "      <td>44.0</td>\n",
              "      <td>a news release</td>\n",
              "      <td>The release may have a point that Mikulskis co...</td>\n",
              "      <td>1</td>\n",
              "    </tr>\n",
              "    <tr>\n",
              "      <th>4</th>\n",
              "      <td>9028.json</td>\n",
              "      <td>half-true</td>\n",
              "      <td>The economic turnaround started at the end of ...</td>\n",
              "      <td>economy,jobs</td>\n",
              "      <td>charlie-crist</td>\n",
              "      <td>NaN</td>\n",
              "      <td>Florida</td>\n",
              "      <td>democrat</td>\n",
              "      <td>15.0</td>\n",
              "      <td>9.0</td>\n",
              "      <td>20.0</td>\n",
              "      <td>19.0</td>\n",
              "      <td>2.0</td>\n",
              "      <td>an interview on CNN</td>\n",
              "      <td>Crist said that the economic \"turnaround start...</td>\n",
              "      <td>2</td>\n",
              "    </tr>\n",
              "  </tbody>\n",
              "</table>\n",
              "</div>"
            ],
            "text/plain": [
              "       jsonid  ... label_cat\n",
              "0   2635.json  ...         1\n",
              "1  10540.json  ...         2\n",
              "2    324.json  ...         3\n",
              "3   1123.json  ...         1\n",
              "4   9028.json  ...         2\n",
              "\n",
              "[5 rows x 16 columns]"
            ]
          },
          "metadata": {
            "tags": []
          },
          "execution_count": 13
        }
      ]
    },
    {
      "cell_type": "markdown",
      "metadata": {
        "id": "qyi57CnL7Tzm"
      },
      "source": [
        "##Data Cleaning and Text Preprocessing#"
      ]
    },
    {
      "cell_type": "code",
      "metadata": {
        "id": "9V56lsREvMfH"
      },
      "source": [
        "train_news['text'] = train_news['text'].astype(str)\n",
        "test_news['text'] = test_news['text'].astype(str)"
      ],
      "execution_count": 14,
      "outputs": []
    },
    {
      "cell_type": "code",
      "metadata": {
        "id": "b3BQEha-3cVY"
      },
      "source": [
        "train_news = train_news.append(test_news, ignore_index=True)"
      ],
      "execution_count": 23,
      "outputs": []
    },
    {
      "cell_type": "code",
      "metadata": {
        "colab": {
          "base_uri": "https://localhost:8080/",
          "height": 615
        },
        "id": "8Kwsu_Vc385o",
        "outputId": "ff82d51e-1d87-4a90-b893-346f463d4831"
      },
      "source": [
        "train_news.head()"
      ],
      "execution_count": 24,
      "outputs": [
        {
          "output_type": "execute_result",
          "data": {
            "text/html": [
              "<div>\n",
              "<style scoped>\n",
              "    .dataframe tbody tr th:only-of-type {\n",
              "        vertical-align: middle;\n",
              "    }\n",
              "\n",
              "    .dataframe tbody tr th {\n",
              "        vertical-align: top;\n",
              "    }\n",
              "\n",
              "    .dataframe thead th {\n",
              "        text-align: right;\n",
              "    }\n",
              "</style>\n",
              "<table border=\"1\" class=\"dataframe\">\n",
              "  <thead>\n",
              "    <tr style=\"text-align: right;\">\n",
              "      <th></th>\n",
              "      <th>jsonid</th>\n",
              "      <th>label</th>\n",
              "      <th>headline_text</th>\n",
              "      <th>subject</th>\n",
              "      <th>speaker</th>\n",
              "      <th>speakerjobtitle</th>\n",
              "      <th>stateinfo</th>\n",
              "      <th>partyaffiliation</th>\n",
              "      <th>barelytruecounts</th>\n",
              "      <th>falsecounts</th>\n",
              "      <th>halftruecounts</th>\n",
              "      <th>mostlytruecounts</th>\n",
              "      <th>pantsonfirecounts</th>\n",
              "      <th>context</th>\n",
              "      <th>text</th>\n",
              "      <th>label_cat</th>\n",
              "    </tr>\n",
              "  </thead>\n",
              "  <tbody>\n",
              "    <tr>\n",
              "      <th>0</th>\n",
              "      <td>2635.json</td>\n",
              "      <td>false</td>\n",
              "      <td>Says the Annies List political group supports ...</td>\n",
              "      <td>abortion</td>\n",
              "      <td>dwayne-bohac</td>\n",
              "      <td>State representative</td>\n",
              "      <td>Texas</td>\n",
              "      <td>republican</td>\n",
              "      <td>0.0</td>\n",
              "      <td>1.0</td>\n",
              "      <td>0.0</td>\n",
              "      <td>0.0</td>\n",
              "      <td>0.0</td>\n",
              "      <td>a mailer</td>\n",
              "      <td>That's a premise that he fails to back up. Ann...</td>\n",
              "      <td>1</td>\n",
              "    </tr>\n",
              "    <tr>\n",
              "      <th>1</th>\n",
              "      <td>10540.json</td>\n",
              "      <td>half-true</td>\n",
              "      <td>When did the decline of coal start? It started...</td>\n",
              "      <td>energy,history,job-accomplishments</td>\n",
              "      <td>scott-surovell</td>\n",
              "      <td>State delegate</td>\n",
              "      <td>Virginia</td>\n",
              "      <td>democrat</td>\n",
              "      <td>0.0</td>\n",
              "      <td>0.0</td>\n",
              "      <td>1.0</td>\n",
              "      <td>1.0</td>\n",
              "      <td>0.0</td>\n",
              "      <td>a floor speech.</td>\n",
              "      <td>Surovell said the decline of coal \"started whe...</td>\n",
              "      <td>2</td>\n",
              "    </tr>\n",
              "    <tr>\n",
              "      <th>2</th>\n",
              "      <td>324.json</td>\n",
              "      <td>mostly-true</td>\n",
              "      <td>Hillary Clinton agrees with John McCain \"by vo...</td>\n",
              "      <td>foreign-policy</td>\n",
              "      <td>barack-obama</td>\n",
              "      <td>President</td>\n",
              "      <td>Illinois</td>\n",
              "      <td>democrat</td>\n",
              "      <td>70.0</td>\n",
              "      <td>71.0</td>\n",
              "      <td>160.0</td>\n",
              "      <td>163.0</td>\n",
              "      <td>9.0</td>\n",
              "      <td>Denver</td>\n",
              "      <td>Obama said he would have voted against the ame...</td>\n",
              "      <td>3</td>\n",
              "    </tr>\n",
              "    <tr>\n",
              "      <th>3</th>\n",
              "      <td>1123.json</td>\n",
              "      <td>false</td>\n",
              "      <td>Health care reform legislation is likely to ma...</td>\n",
              "      <td>health-care</td>\n",
              "      <td>blog-posting</td>\n",
              "      <td>NaN</td>\n",
              "      <td>NaN</td>\n",
              "      <td>none</td>\n",
              "      <td>7.0</td>\n",
              "      <td>19.0</td>\n",
              "      <td>3.0</td>\n",
              "      <td>5.0</td>\n",
              "      <td>44.0</td>\n",
              "      <td>a news release</td>\n",
              "      <td>The release may have a point that Mikulskis co...</td>\n",
              "      <td>1</td>\n",
              "    </tr>\n",
              "    <tr>\n",
              "      <th>4</th>\n",
              "      <td>9028.json</td>\n",
              "      <td>half-true</td>\n",
              "      <td>The economic turnaround started at the end of ...</td>\n",
              "      <td>economy,jobs</td>\n",
              "      <td>charlie-crist</td>\n",
              "      <td>NaN</td>\n",
              "      <td>Florida</td>\n",
              "      <td>democrat</td>\n",
              "      <td>15.0</td>\n",
              "      <td>9.0</td>\n",
              "      <td>20.0</td>\n",
              "      <td>19.0</td>\n",
              "      <td>2.0</td>\n",
              "      <td>an interview on CNN</td>\n",
              "      <td>Crist said that the economic \"turnaround start...</td>\n",
              "      <td>2</td>\n",
              "    </tr>\n",
              "  </tbody>\n",
              "</table>\n",
              "</div>"
            ],
            "text/plain": [
              "       jsonid  ... label_cat\n",
              "0   2635.json  ...         1\n",
              "1  10540.json  ...         2\n",
              "2    324.json  ...         3\n",
              "3   1123.json  ...         1\n",
              "4   9028.json  ...         2\n",
              "\n",
              "[5 rows x 16 columns]"
            ]
          },
          "metadata": {
            "tags": []
          },
          "execution_count": 24
        }
      ]
    },
    {
      "cell_type": "code",
      "metadata": {
        "colab": {
          "base_uri": "https://localhost:8080/"
        },
        "id": "aWh6YAzD4CVs",
        "outputId": "89c9a9d3-18e3-425c-86ae-9f734bad2127"
      },
      "source": [
        "train_news.shape"
      ],
      "execution_count": 25,
      "outputs": [
        {
          "output_type": "execute_result",
          "data": {
            "text/plain": [
              "(11507, 16)"
            ]
          },
          "metadata": {
            "tags": []
          },
          "execution_count": 25
        }
      ]
    },
    {
      "cell_type": "markdown",
      "metadata": {
        "id": "dge8vZsXFWlX"
      },
      "source": [
        "##Tokenize Text"
      ]
    },
    {
      "cell_type": "code",
      "metadata": {
        "id": "qHas2w8Dj5dq",
        "colab": {
          "base_uri": "https://localhost:8080/"
        },
        "outputId": "44c8d649-c7d6-4fd3-9edf-8bbaf4cc3982"
      },
      "source": [
        "# Tokenize text\n",
        "\n",
        "tokenizer = Tokenizer()\n",
        "tokenizer.fit_on_texts(train_news['text'])\n",
        "#tokenizer.fit_on_texts(test_news['text'])\n",
        "word_index = tokenizer.word_index\n",
        "vocab_size=len(word_index)\n",
        "print(vocab_size)\n",
        "\n",
        "# Padding data\n",
        "\n",
        "sequences = tokenizer.texts_to_sequences(train_news['text'])\n",
        "padded = pad_sequences(sequences, maxlen=500, padding='post', truncating='post')"
      ],
      "execution_count": 26,
      "outputs": [
        {
          "output_type": "stream",
          "text": [
            "25669\n"
          ],
          "name": "stdout"
        }
      ]
    },
    {
      "cell_type": "code",
      "metadata": {
        "id": "YD5YJ0rj0F6f"
      },
      "source": [
        "split = 0.2\n",
        "split_n = int(round(len(padded)*(1-split),0))\n",
        "\n",
        "train_data = padded[:split_n]\n",
        "train_labels = train_news['label_cat'].values[:split_n]\n",
        "test_data = padded[split_n:]\n",
        "test_labels = train_news['label_cat'].values[split_n:]"
      ],
      "execution_count": 27,
      "outputs": []
    },
    {
      "cell_type": "markdown",
      "metadata": {
        "id": "NrGfbCsQFcLC"
      },
      "source": [
        "##Word Embeddings"
      ]
    },
    {
      "cell_type": "markdown",
      "metadata": {
        "id": "27WTXmBh6gu0"
      },
      "source": [
        "Words are converted to a tensor representation\n",
        "\n",
        "words with the same meaning have similar tensor values and differences"
      ]
    },
    {
      "cell_type": "code",
      "metadata": {
        "id": "4_cKfNmzkH2v",
        "colab": {
          "base_uri": "https://localhost:8080/"
        },
        "outputId": "1ec766a4-2aa2-48a3-f2db-fc2798fae30c"
      },
      "source": [
        "# Import tensor representations for words\n",
        "\n",
        "!wget --no-check-certificate \\\n",
        "    https://storage.googleapis.com/laurencemoroney-blog.appspot.com/glove.6B.100d.txt \\\n",
        "    -O /tmp/glove.6B.100d.txt\n",
        "embeddings_index = {};\n",
        "with open('/tmp/glove.6B.100d.txt') as f:\n",
        "    for line in f:\n",
        "        values = line.split();\n",
        "        word = values[0];\n",
        "        coefs = np.asarray(values[1:], dtype='float32');\n",
        "        embeddings_index[word] = coefs;\n",
        "print(len(coefs))\n",
        "\n",
        "embeddings_matrix = np.zeros((vocab_size+1, 100));\n",
        "for word, i in word_index.items():\n",
        "    embedding_vector = embeddings_index.get(word);\n",
        "    if embedding_vector is not None:\n",
        "        embeddings_matrix[i] = embedding_vector;"
      ],
      "execution_count": 28,
      "outputs": [
        {
          "output_type": "stream",
          "text": [
            "--2020-12-05 03:09:52--  https://storage.googleapis.com/laurencemoroney-blog.appspot.com/glove.6B.100d.txt\n",
            "Resolving storage.googleapis.com (storage.googleapis.com)... 108.177.126.128, 108.177.127.128, 74.125.128.128, ...\n",
            "Connecting to storage.googleapis.com (storage.googleapis.com)|108.177.126.128|:443... connected.\n",
            "HTTP request sent, awaiting response... 200 OK\n",
            "Length: 347116733 (331M) [text/plain]\n",
            "Saving to: ‘/tmp/glove.6B.100d.txt’\n",
            "\n",
            "/tmp/glove.6B.100d. 100%[===================>] 331.04M  98.6MB/s    in 3.4s    \n",
            "\n",
            "2020-12-05 03:09:55 (98.6 MB/s) - ‘/tmp/glove.6B.100d.txt’ saved [347116733/347116733]\n",
            "\n",
            "100\n"
          ],
          "name": "stdout"
        }
      ]
    },
    {
      "cell_type": "markdown",
      "metadata": {
        "id": "DtDabKXEFf4N"
      },
      "source": [
        "##Tensorflow model"
      ]
    },
    {
      "cell_type": "code",
      "metadata": {
        "id": "hjkzdejAeSiu"
      },
      "source": [
        "# Build the architecture of the model\n",
        "     \n",
        "model = tf.keras.Sequential([\n",
        "    tf.keras.layers.Embedding(vocab_size+1, 100, weights=[embeddings_matrix], trainable=False),\n",
        "    tf.keras.layers.Dropout(0.2),\n",
        "    tf.keras.layers.Conv1D(64, 5, activation='relu'),\n",
        "    tf.keras.layers.MaxPooling1D(pool_size=4),\n",
        "    tf.keras.layers.LSTM(20, return_sequences=True),\n",
        "    tf.keras.layers.LSTM(20),\n",
        "    tf.keras.layers.Dropout(0.2),  \n",
        "    tf.keras.layers.Dense(512),\n",
        "    tf.keras.layers.Dropout(0.3),  \n",
        "    tf.keras.layers.Dense(256),\n",
        "    tf.keras.layers.Dense(1, activation='sigmoid')\n",
        "])"
      ],
      "execution_count": 29,
      "outputs": []
    },
    {
      "cell_type": "markdown",
      "metadata": {
        "id": "fRT6sNO9Fk6B"
      },
      "source": [
        "##Model Training"
      ]
    },
    {
      "cell_type": "code",
      "metadata": {
        "id": "ozzZOuJClDPG",
        "colab": {
          "base_uri": "https://localhost:8080/"
        },
        "outputId": "ba6fa5fb-52d4-4378-82a0-1533e4df3b2e"
      },
      "source": [
        "model.compile(loss='binary_crossentropy',optimizer='adam',metrics=['accuracy'])\n",
        "model.summary()\n",
        "\n",
        "history = model.fit(train_data, train_labels, epochs=100, batch_size=100, validation_data=[test_data, test_labels])\n",
        "\n",
        "print(\"Training Complete\")"
      ],
      "execution_count": 31,
      "outputs": [
        {
          "output_type": "stream",
          "text": [
            "Model: \"sequential_1\"\n",
            "_________________________________________________________________\n",
            "Layer (type)                 Output Shape              Param #   \n",
            "=================================================================\n",
            "embedding_1 (Embedding)      (None, None, 100)         2567000   \n",
            "_________________________________________________________________\n",
            "dropout_3 (Dropout)          (None, None, 100)         0         \n",
            "_________________________________________________________________\n",
            "conv1d_1 (Conv1D)            (None, None, 64)          32064     \n",
            "_________________________________________________________________\n",
            "max_pooling1d_1 (MaxPooling1 (None, None, 64)          0         \n",
            "_________________________________________________________________\n",
            "lstm_2 (LSTM)                (None, None, 20)          6800      \n",
            "_________________________________________________________________\n",
            "lstm_3 (LSTM)                (None, 20)                3280      \n",
            "_________________________________________________________________\n",
            "dropout_4 (Dropout)          (None, 20)                0         \n",
            "_________________________________________________________________\n",
            "dense_3 (Dense)              (None, 512)               10752     \n",
            "_________________________________________________________________\n",
            "dropout_5 (Dropout)          (None, 512)               0         \n",
            "_________________________________________________________________\n",
            "dense_4 (Dense)              (None, 256)               131328    \n",
            "_________________________________________________________________\n",
            "dense_5 (Dense)              (None, 1)                 257       \n",
            "=================================================================\n",
            "Total params: 2,751,481\n",
            "Trainable params: 184,481\n",
            "Non-trainable params: 2,567,000\n",
            "_________________________________________________________________\n",
            "Epoch 1/100\n",
            "93/93 [==============================] - 31s 331ms/step - loss: -694042.5625 - accuracy: 0.1931 - val_loss: 0.0000e+00 - val_accuracy: 0.0000e+00\n",
            "Epoch 2/100\n",
            "93/93 [==============================] - 31s 335ms/step - loss: -1145113.8750 - accuracy: 0.1931 - val_loss: 0.0000e+00 - val_accuracy: 0.0000e+00\n",
            "Epoch 3/100\n",
            "93/93 [==============================] - 31s 337ms/step - loss: -1838911.0000 - accuracy: 0.1931 - val_loss: 0.0000e+00 - val_accuracy: 0.0000e+00\n",
            "Epoch 4/100\n",
            "93/93 [==============================] - 31s 337ms/step - loss: -2902766.2500 - accuracy: 0.1931 - val_loss: 0.0000e+00 - val_accuracy: 0.0000e+00\n",
            "Epoch 5/100\n",
            "93/93 [==============================] - 32s 339ms/step - loss: -4426972.0000 - accuracy: 0.1931 - val_loss: 0.0000e+00 - val_accuracy: 0.0000e+00\n",
            "Epoch 6/100\n",
            "93/93 [==============================] - 31s 336ms/step - loss: -6560067.0000 - accuracy: 0.1931 - val_loss: 0.0000e+00 - val_accuracy: 0.0000e+00\n",
            "Epoch 7/100\n",
            "93/93 [==============================] - 31s 338ms/step - loss: -9374130.0000 - accuracy: 0.1931 - val_loss: 0.0000e+00 - val_accuracy: 0.0000e+00\n",
            "Epoch 8/100\n",
            "93/93 [==============================] - 31s 338ms/step - loss: -12967323.0000 - accuracy: 0.1931 - val_loss: 0.0000e+00 - val_accuracy: 0.0000e+00\n",
            "Epoch 9/100\n",
            "93/93 [==============================] - 31s 335ms/step - loss: -17452132.0000 - accuracy: 0.1931 - val_loss: 0.0000e+00 - val_accuracy: 0.0000e+00\n",
            "Epoch 10/100\n",
            "93/93 [==============================] - 31s 337ms/step - loss: -22879510.0000 - accuracy: 0.1931 - val_loss: 0.0000e+00 - val_accuracy: 0.0000e+00\n",
            "Epoch 11/100\n",
            "93/93 [==============================] - 31s 337ms/step - loss: -29549592.0000 - accuracy: 0.1931 - val_loss: 0.0000e+00 - val_accuracy: 0.0000e+00\n",
            "Epoch 12/100\n",
            "93/93 [==============================] - 31s 334ms/step - loss: -37119008.0000 - accuracy: 0.1931 - val_loss: 0.0000e+00 - val_accuracy: 0.0000e+00\n",
            "Epoch 13/100\n",
            "93/93 [==============================] - 31s 337ms/step - loss: -46011884.0000 - accuracy: 0.1931 - val_loss: 0.0000e+00 - val_accuracy: 0.0000e+00\n",
            "Epoch 14/100\n",
            "93/93 [==============================] - 31s 336ms/step - loss: -56264356.0000 - accuracy: 0.1931 - val_loss: 0.0000e+00 - val_accuracy: 0.0000e+00\n",
            "Epoch 15/100\n",
            "93/93 [==============================] - 32s 343ms/step - loss: -67399728.0000 - accuracy: 0.1931 - val_loss: 0.0000e+00 - val_accuracy: 0.0000e+00\n",
            "Epoch 16/100\n",
            "93/93 [==============================] - 32s 340ms/step - loss: -80247544.0000 - accuracy: 0.1931 - val_loss: 0.0000e+00 - val_accuracy: 0.0000e+00\n",
            "Epoch 17/100\n",
            "93/93 [==============================] - 32s 340ms/step - loss: -94205256.0000 - accuracy: 0.1931 - val_loss: 0.0000e+00 - val_accuracy: 0.0000e+00\n",
            "Epoch 18/100\n",
            "93/93 [==============================] - 31s 338ms/step - loss: -109781624.0000 - accuracy: 0.1931 - val_loss: 0.0000e+00 - val_accuracy: 0.0000e+00\n",
            "Epoch 19/100\n",
            "93/93 [==============================] - 32s 340ms/step - loss: -127164952.0000 - accuracy: 0.1930 - val_loss: 0.0000e+00 - val_accuracy: 0.0000e+00\n",
            "Epoch 20/100\n",
            "93/93 [==============================] - 31s 338ms/step - loss: -145287792.0000 - accuracy: 0.1931 - val_loss: 0.0000e+00 - val_accuracy: 0.0000e+00\n",
            "Epoch 21/100\n",
            "93/93 [==============================] - 31s 337ms/step - loss: -165402944.0000 - accuracy: 0.1931 - val_loss: 0.0000e+00 - val_accuracy: 0.0000e+00\n",
            "Epoch 22/100\n",
            "93/93 [==============================] - 31s 338ms/step - loss: -187161056.0000 - accuracy: 0.1931 - val_loss: 0.0000e+00 - val_accuracy: 0.0000e+00\n",
            "Epoch 23/100\n",
            "93/93 [==============================] - 32s 342ms/step - loss: -209718240.0000 - accuracy: 0.1931 - val_loss: 0.0000e+00 - val_accuracy: 0.0000e+00\n",
            "Epoch 24/100\n",
            "93/93 [==============================] - 32s 339ms/step - loss: -234787552.0000 - accuracy: 0.1931 - val_loss: 0.0000e+00 - val_accuracy: 0.0000e+00\n",
            "Epoch 25/100\n",
            "93/93 [==============================] - 32s 340ms/step - loss: -261407776.0000 - accuracy: 0.1934 - val_loss: 0.0000e+00 - val_accuracy: 0.0000e+00\n",
            "Epoch 26/100\n",
            "93/93 [==============================] - 31s 339ms/step - loss: -290128096.0000 - accuracy: 0.1934 - val_loss: 0.0000e+00 - val_accuracy: 0.0000e+00\n",
            "Epoch 27/100\n",
            "93/93 [==============================] - 31s 339ms/step - loss: -319273856.0000 - accuracy: 0.1935 - val_loss: 0.0000e+00 - val_accuracy: 0.0000e+00\n",
            "Epoch 28/100\n",
            "93/93 [==============================] - 31s 338ms/step - loss: -352430240.0000 - accuracy: 0.1935 - val_loss: 0.0000e+00 - val_accuracy: 0.0000e+00\n",
            "Epoch 29/100\n",
            "93/93 [==============================] - 31s 338ms/step - loss: -384394880.0000 - accuracy: 0.1935 - val_loss: 0.0000e+00 - val_accuracy: 0.0000e+00\n",
            "Epoch 30/100\n",
            "93/93 [==============================] - 31s 338ms/step - loss: -419073984.0000 - accuracy: 0.1935 - val_loss: 0.0000e+00 - val_accuracy: 0.0000e+00\n",
            "Epoch 31/100\n",
            "93/93 [==============================] - 31s 338ms/step - loss: -457136128.0000 - accuracy: 0.1934 - val_loss: 0.0000e+00 - val_accuracy: 0.0000e+00\n",
            "Epoch 32/100\n",
            "93/93 [==============================] - 32s 339ms/step - loss: -494778592.0000 - accuracy: 0.1935 - val_loss: 0.0000e+00 - val_accuracy: 0.0000e+00\n",
            "Epoch 33/100\n",
            "93/93 [==============================] - 32s 342ms/step - loss: -533958176.0000 - accuracy: 0.1935 - val_loss: 0.0000e+00 - val_accuracy: 0.0000e+00\n",
            "Epoch 34/100\n",
            "93/93 [==============================] - 32s 340ms/step - loss: -577770816.0000 - accuracy: 0.1935 - val_loss: 0.0000e+00 - val_accuracy: 0.0000e+00\n",
            "Epoch 35/100\n",
            "93/93 [==============================] - 32s 340ms/step - loss: -620807296.0000 - accuracy: 0.1934 - val_loss: 0.0000e+00 - val_accuracy: 0.0000e+00\n",
            "Epoch 36/100\n",
            "93/93 [==============================] - 32s 339ms/step - loss: -666583232.0000 - accuracy: 0.1935 - val_loss: 0.0000e+00 - val_accuracy: 0.0000e+00\n",
            "Epoch 37/100\n",
            "93/93 [==============================] - 32s 341ms/step - loss: -714650368.0000 - accuracy: 0.1935 - val_loss: 0.0000e+00 - val_accuracy: 0.0000e+00\n",
            "Epoch 38/100\n",
            "93/93 [==============================] - 32s 341ms/step - loss: -765776320.0000 - accuracy: 0.1935 - val_loss: 0.0000e+00 - val_accuracy: 0.0000e+00\n",
            "Epoch 39/100\n",
            "93/93 [==============================] - 32s 341ms/step - loss: -813952256.0000 - accuracy: 0.1935 - val_loss: 0.0000e+00 - val_accuracy: 0.0000e+00\n",
            "Epoch 40/100\n",
            "93/93 [==============================] - 31s 338ms/step - loss: -868757056.0000 - accuracy: 0.1935 - val_loss: 0.0000e+00 - val_accuracy: 0.0000e+00\n",
            "Epoch 41/100\n",
            "93/93 [==============================] - 32s 341ms/step - loss: -924766272.0000 - accuracy: 0.1935 - val_loss: 0.0000e+00 - val_accuracy: 0.0000e+00\n",
            "Epoch 42/100\n",
            "93/93 [==============================] - 32s 341ms/step - loss: -981305408.0000 - accuracy: 0.1935 - val_loss: 0.0000e+00 - val_accuracy: 0.0000e+00\n",
            "Epoch 43/100\n",
            "93/93 [==============================] - 32s 339ms/step - loss: -1041222784.0000 - accuracy: 0.1935 - val_loss: 0.0000e+00 - val_accuracy: 0.0000e+00\n",
            "Epoch 44/100\n",
            "93/93 [==============================] - 32s 341ms/step - loss: -1103128320.0000 - accuracy: 0.1935 - val_loss: 0.0000e+00 - val_accuracy: 0.0000e+00\n",
            "Epoch 45/100\n",
            "93/93 [==============================] - 32s 339ms/step - loss: -1164257536.0000 - accuracy: 0.1935 - val_loss: 0.0000e+00 - val_accuracy: 0.0000e+00\n",
            "Epoch 46/100\n",
            "93/93 [==============================] - 32s 340ms/step - loss: -1234294016.0000 - accuracy: 0.1935 - val_loss: 0.0000e+00 - val_accuracy: 0.0000e+00\n",
            "Epoch 47/100\n",
            "93/93 [==============================] - 32s 341ms/step - loss: -1300253568.0000 - accuracy: 0.1934 - val_loss: 0.0000e+00 - val_accuracy: 0.0000e+00\n",
            "Epoch 48/100\n",
            "93/93 [==============================] - 32s 341ms/step - loss: -1369130624.0000 - accuracy: 0.1931 - val_loss: 0.0000e+00 - val_accuracy: 0.0000e+00\n",
            "Epoch 49/100\n",
            "93/93 [==============================] - 32s 341ms/step - loss: -1443391872.0000 - accuracy: 0.1931 - val_loss: 0.0000e+00 - val_accuracy: 0.0000e+00\n",
            "Epoch 50/100\n",
            "93/93 [==============================] - 32s 339ms/step - loss: -1513890560.0000 - accuracy: 0.1931 - val_loss: 0.0000e+00 - val_accuracy: 0.0000e+00\n",
            "Epoch 51/100\n",
            "93/93 [==============================] - 32s 342ms/step - loss: -1590365696.0000 - accuracy: 0.1931 - val_loss: 0.0000e+00 - val_accuracy: 0.0000e+00\n",
            "Epoch 52/100\n",
            "93/93 [==============================] - 32s 342ms/step - loss: -1667263360.0000 - accuracy: 0.1931 - val_loss: 0.0000e+00 - val_accuracy: 0.0000e+00\n",
            "Epoch 53/100\n",
            "93/93 [==============================] - 32s 340ms/step - loss: -1741909632.0000 - accuracy: 0.1934 - val_loss: 0.0000e+00 - val_accuracy: 0.0000e+00\n",
            "Epoch 54/100\n",
            "93/93 [==============================] - 32s 343ms/step - loss: -1826779776.0000 - accuracy: 0.1934 - val_loss: 0.0000e+00 - val_accuracy: 0.0000e+00\n",
            "Epoch 55/100\n",
            "93/93 [==============================] - 32s 341ms/step - loss: -1907348352.0000 - accuracy: 0.1935 - val_loss: 0.0000e+00 - val_accuracy: 0.0000e+00\n",
            "Epoch 56/100\n",
            "93/93 [==============================] - 32s 341ms/step - loss: -1994561024.0000 - accuracy: 0.1935 - val_loss: 0.0000e+00 - val_accuracy: 0.0000e+00\n",
            "Epoch 57/100\n",
            "93/93 [==============================] - 32s 340ms/step - loss: -2083123200.0000 - accuracy: 0.1935 - val_loss: 0.0000e+00 - val_accuracy: 0.0000e+00\n",
            "Epoch 58/100\n",
            "93/93 [==============================] - 32s 341ms/step - loss: -2175930112.0000 - accuracy: 0.1934 - val_loss: 0.0000e+00 - val_accuracy: 0.0000e+00\n",
            "Epoch 59/100\n",
            "93/93 [==============================] - 32s 340ms/step - loss: -2268167680.0000 - accuracy: 0.1935 - val_loss: 0.0000e+00 - val_accuracy: 0.0000e+00\n",
            "Epoch 60/100\n",
            "93/93 [==============================] - 32s 339ms/step - loss: -2365609984.0000 - accuracy: 0.1934 - val_loss: 0.0000e+00 - val_accuracy: 0.0000e+00\n",
            "Epoch 61/100\n",
            "93/93 [==============================] - 32s 341ms/step - loss: -2458957312.0000 - accuracy: 0.1935 - val_loss: 0.0000e+00 - val_accuracy: 0.0000e+00\n",
            "Epoch 62/100\n",
            "93/93 [==============================] - 32s 339ms/step - loss: -2556160512.0000 - accuracy: 0.1935 - val_loss: 0.0000e+00 - val_accuracy: 0.0000e+00\n",
            "Epoch 63/100\n",
            "93/93 [==============================] - 32s 339ms/step - loss: -2660041728.0000 - accuracy: 0.1935 - val_loss: 0.0000e+00 - val_accuracy: 0.0000e+00\n",
            "Epoch 64/100\n",
            "93/93 [==============================] - 32s 342ms/step - loss: -2770938624.0000 - accuracy: 0.1935 - val_loss: 0.0000e+00 - val_accuracy: 0.0000e+00\n",
            "Epoch 65/100\n",
            "93/93 [==============================] - 31s 339ms/step - loss: -2877275136.0000 - accuracy: 0.1935 - val_loss: 0.0000e+00 - val_accuracy: 0.0000e+00\n",
            "Epoch 66/100\n",
            "93/93 [==============================] - 31s 338ms/step - loss: -2981745408.0000 - accuracy: 0.1935 - val_loss: 0.0000e+00 - val_accuracy: 0.0000e+00\n",
            "Epoch 67/100\n",
            "93/93 [==============================] - 32s 342ms/step - loss: -3102953216.0000 - accuracy: 0.1935 - val_loss: 0.0000e+00 - val_accuracy: 0.0000e+00\n",
            "Epoch 68/100\n",
            "93/93 [==============================] - 32s 339ms/step - loss: -3206286336.0000 - accuracy: 0.1935 - val_loss: 0.0000e+00 - val_accuracy: 0.0000e+00\n",
            "Epoch 69/100\n",
            "93/93 [==============================] - 31s 338ms/step - loss: -3329449216.0000 - accuracy: 0.1935 - val_loss: 0.0000e+00 - val_accuracy: 0.0000e+00\n",
            "Epoch 70/100\n",
            "93/93 [==============================] - 32s 340ms/step - loss: -3452487168.0000 - accuracy: 0.1935 - val_loss: 0.0000e+00 - val_accuracy: 0.0000e+00\n",
            "Epoch 71/100\n",
            "93/93 [==============================] - 32s 339ms/step - loss: -3572131840.0000 - accuracy: 0.1935 - val_loss: 0.0000e+00 - val_accuracy: 0.0000e+00\n",
            "Epoch 72/100\n",
            "93/93 [==============================] - 32s 339ms/step - loss: -3695682048.0000 - accuracy: 0.1935 - val_loss: 0.0000e+00 - val_accuracy: 0.0000e+00\n",
            "Epoch 73/100\n",
            "93/93 [==============================] - 32s 341ms/step - loss: -3820709376.0000 - accuracy: 0.1935 - val_loss: 0.0000e+00 - val_accuracy: 0.0000e+00\n",
            "Epoch 74/100\n",
            "93/93 [==============================] - 32s 341ms/step - loss: -3947592704.0000 - accuracy: 0.1935 - val_loss: 0.0000e+00 - val_accuracy: 0.0000e+00\n",
            "Epoch 75/100\n",
            "93/93 [==============================] - 32s 341ms/step - loss: -4085071104.0000 - accuracy: 0.1935 - val_loss: 0.0000e+00 - val_accuracy: 0.0000e+00\n",
            "Epoch 76/100\n",
            "93/93 [==============================] - 32s 339ms/step - loss: -4231868672.0000 - accuracy: 0.1935 - val_loss: 0.0000e+00 - val_accuracy: 0.0000e+00\n",
            "Epoch 77/100\n",
            "93/93 [==============================] - 32s 340ms/step - loss: -4347685888.0000 - accuracy: 0.1935 - val_loss: 0.0000e+00 - val_accuracy: 0.0000e+00\n",
            "Epoch 78/100\n",
            "93/93 [==============================] - 32s 340ms/step - loss: -4510332416.0000 - accuracy: 0.1935 - val_loss: 0.0000e+00 - val_accuracy: 0.0000e+00\n",
            "Epoch 79/100\n",
            "93/93 [==============================] - 32s 340ms/step - loss: -4648503296.0000 - accuracy: 0.1935 - val_loss: 0.0000e+00 - val_accuracy: 0.0000e+00\n",
            "Epoch 80/100\n",
            "93/93 [==============================] - 32s 342ms/step - loss: -4782972928.0000 - accuracy: 0.1935 - val_loss: 0.0000e+00 - val_accuracy: 0.0000e+00\n",
            "Epoch 81/100\n",
            "93/93 [==============================] - 31s 337ms/step - loss: -4937332736.0000 - accuracy: 0.1935 - val_loss: 0.0000e+00 - val_accuracy: 0.0000e+00\n",
            "Epoch 82/100\n",
            "93/93 [==============================] - 31s 338ms/step - loss: -5070024704.0000 - accuracy: 0.1935 - val_loss: 0.0000e+00 - val_accuracy: 0.0000e+00\n",
            "Epoch 83/100\n",
            "93/93 [==============================] - 32s 341ms/step - loss: -5223662080.0000 - accuracy: 0.1935 - val_loss: 0.0000e+00 - val_accuracy: 0.0000e+00\n",
            "Epoch 84/100\n",
            "93/93 [==============================] - 31s 338ms/step - loss: -5395775488.0000 - accuracy: 0.1935 - val_loss: 0.0000e+00 - val_accuracy: 0.0000e+00\n",
            "Epoch 85/100\n",
            "93/93 [==============================] - 31s 336ms/step - loss: -5554058752.0000 - accuracy: 0.1935 - val_loss: 0.0000e+00 - val_accuracy: 0.0000e+00\n",
            "Epoch 86/100\n",
            "93/93 [==============================] - 32s 340ms/step - loss: -5731729408.0000 - accuracy: 0.1935 - val_loss: 0.0000e+00 - val_accuracy: 0.0000e+00\n",
            "Epoch 87/100\n",
            "93/93 [==============================] - 31s 337ms/step - loss: -5874970624.0000 - accuracy: 0.1935 - val_loss: 0.0000e+00 - val_accuracy: 0.0000e+00\n",
            "Epoch 88/100\n",
            "93/93 [==============================] - 31s 338ms/step - loss: -6049209344.0000 - accuracy: 0.1935 - val_loss: 0.0000e+00 - val_accuracy: 0.0000e+00\n",
            "Epoch 89/100\n",
            "93/93 [==============================] - 32s 342ms/step - loss: -6202342912.0000 - accuracy: 0.1935 - val_loss: 0.0000e+00 - val_accuracy: 0.0000e+00\n",
            "Epoch 90/100\n",
            "93/93 [==============================] - 32s 341ms/step - loss: -6368841216.0000 - accuracy: 0.1935 - val_loss: 0.0000e+00 - val_accuracy: 0.0000e+00\n",
            "Epoch 91/100\n",
            "93/93 [==============================] - 32s 340ms/step - loss: -6552015872.0000 - accuracy: 0.1931 - val_loss: 0.0000e+00 - val_accuracy: 0.0000e+00\n",
            "Epoch 92/100\n",
            "93/93 [==============================] - 32s 340ms/step - loss: -6734379008.0000 - accuracy: 0.1935 - val_loss: 0.0000e+00 - val_accuracy: 0.0000e+00\n",
            "Epoch 93/100\n",
            "93/93 [==============================] - 32s 343ms/step - loss: -6922008064.0000 - accuracy: 0.1934 - val_loss: 0.0000e+00 - val_accuracy: 0.0000e+00\n",
            "Epoch 94/100\n",
            "93/93 [==============================] - 32s 340ms/step - loss: -7108681216.0000 - accuracy: 0.1934 - val_loss: 0.0000e+00 - val_accuracy: 0.0000e+00\n",
            "Epoch 95/100\n",
            "93/93 [==============================] - 32s 339ms/step - loss: -7279928320.0000 - accuracy: 0.1934 - val_loss: 0.0000e+00 - val_accuracy: 0.0000e+00\n",
            "Epoch 96/100\n",
            "93/93 [==============================] - 31s 338ms/step - loss: -7476131328.0000 - accuracy: 0.1935 - val_loss: 0.0000e+00 - val_accuracy: 0.0000e+00\n",
            "Epoch 97/100\n",
            "93/93 [==============================] - 32s 340ms/step - loss: -7652230144.0000 - accuracy: 0.1935 - val_loss: 0.0000e+00 - val_accuracy: 0.0000e+00\n",
            "Epoch 98/100\n",
            "93/93 [==============================] - 32s 340ms/step - loss: -7848935936.0000 - accuracy: 0.1934 - val_loss: 0.0000e+00 - val_accuracy: 0.0000e+00\n",
            "Epoch 99/100\n",
            "93/93 [==============================] - 32s 340ms/step - loss: -8088468992.0000 - accuracy: 0.1935 - val_loss: 0.0000e+00 - val_accuracy: 0.0000e+00\n",
            "Epoch 100/100\n",
            "93/93 [==============================] - 31s 338ms/step - loss: -8272352256.0000 - accuracy: 0.1935 - val_loss: 0.0000e+00 - val_accuracy: 0.0000e+00\n",
            "Training Complete\n"
          ],
          "name": "stdout"
        }
      ]
    },
    {
      "cell_type": "markdown",
      "metadata": {
        "id": "-eA8kuh1FqJs"
      },
      "source": [
        "##Results"
      ]
    },
    {
      "cell_type": "code",
      "metadata": {
        "id": "C5o53b-K7jza",
        "colab": {
          "base_uri": "https://localhost:8080/",
          "height": 573
        },
        "outputId": "80426fcb-40b5-4253-aa76-263d2ce005a6"
      },
      "source": [
        "# Visualize the results:\n",
        "\n",
        "plt.plot(history.history['accuracy'])\n",
        "plt.plot(history.history['val_accuracy'])\n",
        "plt.title('Model accuracy')\n",
        "plt.ylabel('Accuracy')\n",
        "plt.xlabel('Epoch')\n",
        "plt.legend(['Train', 'Test'], loc='upper left')\n",
        "plt.show()\n",
        "\n",
        "plt.plot(history.history['loss'])\n",
        "plt.plot(history.history['val_loss'])\n",
        "plt.title('Model loss')\n",
        "plt.ylabel('Loss')\n",
        "plt.xlabel('Epoch')\n",
        "plt.legend(['Train', 'Test'], loc='upper right')\n",
        "plt.show()"
      ],
      "execution_count": 32,
      "outputs": [
        {
          "output_type": "display_data",
          "data": {
            "image/png": "[encoded data removed]",
            "text/plain": [
              "<Figure size 432x288 with 1 Axes>"
            ]
          },
          "metadata": {
            "tags": [],
            "needs_background": "light"
          }
        },
        {
          "output_type": "display_data",
          "data": {
            "image/png": "[encoded data removed]",
            "text/plain": [
              "<Figure size 432x288 with 1 Axes>"
            ]
          },
          "metadata": {
            "tags": [],
            "needs_background": "light"
          }
        }
      ]
    },
    {
      "cell_type": "markdown",
      "metadata": {
        "id": "GiMCRmXAFsqR"
      },
      "source": [
        "##Conclusion"
      ]
    },
    {
      "cell_type": "markdown",
      "metadata": {
        "id": "KRpAgEZQFunl"
      },
      "source": [
        "In this program we have used the Liar datset for fake news detection using Neural Network.\n",
        "\n",
        "From the traning it can be observed that the loss went down after a few initial trainings."
      ]
    },
    {
      "cell_type": "markdown",
      "metadata": {
        "id": "0nE7O4LUz0TM"
      },
      "source": [
        "###References\n",
        "\n",
        "https://www.lipad.ca/data/\n",
        "\n",
        "https://drive.google.com/file/d/1BR5GMRFHdfL7vtQnJI8fN3IWdL4MfpnI/view\n",
        "\n",
        "https://tspace.library.utoronto.ca/bitstream/1807/101043/4/Naderi_Nona_%20_202006_PhD_thesis.pdf\n",
        "\n",
        "https://towardsdatascience.com/how-to-build-a-recurrent-neural-network-to-detect-fake-news-35953c19cf0b\n",
        "\n",
        "https://www.thestar.com/news/canada.html\n",
        "\n",
        "https://machinelearningmastery.com/difference-between-a-batch-and-an-epoch/\n"
      ]
    }
  ]
}